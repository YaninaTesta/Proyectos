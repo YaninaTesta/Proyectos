{
 "cells": [
  {
   "cell_type": "markdown",
   "metadata": {
    "id": "Gp2WddtV9IwG"
   },
   "source": [
    "# Programa Ingenias+ Data Science"
   ]
  },
  {
   "cell_type": "markdown",
   "metadata": {
    "id": "H4M1yVbf9IwH"
   },
   "source": [
    "Como dijimos en clases anteriores, Python tiene implementadas muchas librerias para poder trabajar con datos. En la clase de hoy trabajaremos con una de ellas: `Numpy`."
   ]
  },
  {
   "cell_type": "markdown",
   "metadata": {
    "id": "GdTT8WeL9IwI"
   },
   "source": [
    "Antes de comenzar, vamos a hablar un poco de esta libreria o modulo.\n",
    "\n",
    "**Numpy** es una librería optimizada para realizar cálculos numéricos con vectores y matrices. A diferencia de otros lenguajes de programación, Python no posee en su estructura central la figura de matrices. Eso quiere decir que para poder trabajar con esta estructura de datos deberiamos trabajar con listas de listas. NumPy introduce el concepto de arrays o matrices."
   ]
  },
  {
   "cell_type": "markdown",
   "metadata": {
    "id": "qWkq3EHK9IwK"
   },
   "source": [
    "Al ser de código abierto, `numpy` posee una documentación muy amplia que es **SIEMPRE RECOMENDABLE** consultar."
   ]
  },
  {
   "cell_type": "markdown",
   "metadata": {
    "id": "nxe3KLUO9IwL"
   },
   "source": [
    "- [Documentacion NumPy](https://devdocs.io/numpy/)"
   ]
  },
  {
   "cell_type": "markdown",
   "metadata": {
    "id": "l1Ay3nSs9IwN"
   },
   "source": [
    "## Clase 4: Introduccion a NumPy"
   ]
  },
  {
   "cell_type": "markdown",
   "metadata": {
    "id": "X03mviQS9IyL"
   },
   "source": [
    "# Ejercicios\n",
    "\n",
    "1. Crear un arreglo de ceros de longitud 12\n",
    "2. Crear un arreglo de longitud 10 con ceros en todas sus posiciones y un 10 en la posición número 5\n",
    "3. Crear un arreglo que tenga los números del 10 al 49\n",
    "4. Crear una arreglo 2d de shape (3, 3) que tenga los números del 0 al 8\n",
    "5. Crear un arreglo de números aleatorios de longitud 100 y obtener su media y varianza\n",
    "6. Calcular la media de un arreglo usando np.sum\n",
    "7. Calcular la varianza de un arreglo usando np.sum y np.mean\n",
    "8. Crear un array de números aleatorios usando np.random.randn.\n"
   ]
  },
  {
   "cell_type": "code",
   "execution_count": 3,
   "metadata": {
    "id": "pi3q1M-qqu3n"
   },
   "outputs": [],
   "source": [
    "# Importamos la biblioteca Numpy\n",
    "import numpy as np"
   ]
  },
  {
   "cell_type": "code",
   "execution_count": 5,
   "metadata": {
    "colab": {
     "base_uri": "https://localhost:8080/"
    },
    "id": "G0NMKT609IyM",
    "outputId": "9d5239de-9d23-456f-ba75-43a4dd69bf15"
   },
   "outputs": [
    {
     "name": "stdout",
     "output_type": "stream",
     "text": [
      "[0. 0. 0. 0. 0. 0. 0. 0. 0. 0. 0. 0.]\n"
     ]
    }
   ],
   "source": [
    "# Ejericio 1\n",
    "# Crear un arreglo de ceros de longitud 12\n",
    "arreglo1 = np.zeros(12)\n",
    "print(arreglo1)"
   ]
  },
  {
   "cell_type": "code",
   "execution_count": 7,
   "metadata": {
    "colab": {
     "base_uri": "https://localhost:8080/"
    },
    "id": "mFmDPD_Nx-6N",
    "outputId": "81df5559-d636-4897-ddb9-b9d9b687bc18"
   },
   "outputs": [
    {
     "name": "stdout",
     "output_type": "stream",
     "text": [
      "[ 0.  0.  0.  0.  0. 10.  0.  0.  0.  0.]\n"
     ]
    }
   ],
   "source": [
    "# Ejercicio 2\n",
    "# Crea un arrelgo de longitud 10 con ceros en todas las posiciones y un 10 en la posicion numero 5\n",
    "arreglo2 = np.zeros(10)\n",
    "arreglo2[5] = 10\n",
    "print(arreglo2)\n"
   ]
  },
  {
   "cell_type": "code",
   "execution_count": 9,
   "metadata": {
    "colab": {
     "base_uri": "https://localhost:8080/"
    },
    "id": "PfpO0cFfyT4D",
    "outputId": "e5e55dd0-ba89-4f2d-8670-9de3182ff76c"
   },
   "outputs": [
    {
     "name": "stdout",
     "output_type": "stream",
     "text": [
      "[10 11 12 13 14 15 16 17 18 19 20 21 22 23 24 25 26 27 28 29 30 31 32 33\n",
      " 34 35 36 37 38 39 40 41 42 43 44 45 46 47 48 49]\n"
     ]
    }
   ],
   "source": [
    "# Ejercicio 3\n",
    "# Crear un arreglo que tenga los números del 10 al 49\n",
    "\n",
    "arreglo3 = np.arange(10,50)\n",
    "print(arreglo3)"
   ]
  },
  {
   "cell_type": "code",
   "execution_count": 35,
   "metadata": {
    "colab": {
     "base_uri": "https://localhost:8080/"
    },
    "id": "T8mOlDa-y9sB",
    "outputId": "05fde143-a333-418f-934c-d3b74f79ba64"
   },
   "outputs": [
    {
     "name": "stdout",
     "output_type": "stream",
     "text": [
      "[[0 1 2]\n",
      " [3 4 5]\n",
      " [6 7 8]]\n"
     ]
    }
   ],
   "source": [
    "# Ejercicio 4\n",
    "# Crear una arreglo 2d de shape (3, 3) que tenga los números del 0 al 8\n",
    "arreglo4 = np.arange(9).reshape(3,3)\n",
    "print(arreglo4)"
   ]
  },
  {
   "cell_type": "code",
   "execution_count": 37,
   "metadata": {
    "colab": {
     "base_uri": "https://localhost:8080/"
    },
    "id": "lEOknHst2CDk",
    "outputId": "c3f41eb9-cdd2-4f8e-bb56-00333215b468"
   },
   "outputs": [
    {
     "name": "stdout",
     "output_type": "stream",
     "text": [
      "[0.02370563 0.72730825 0.03306104 0.87024609 0.75564761 0.69890555\n",
      " 0.59785867 0.80991746 0.36517427 0.33681125 0.66771688 0.56854712\n",
      " 0.93346461 0.77950613 0.92621199 0.98421753 0.61008129 0.77402022\n",
      " 0.54617358 0.09498019 0.25133232 0.67744083 0.65890056 0.88727638\n",
      " 0.32688343 0.55104112 0.62875042 0.95075075 0.5267637  0.94516365\n",
      " 0.06193133 0.23210145 0.66065783 0.81420156 0.13072073 0.72971217\n",
      " 0.36861128 0.99241903 0.2913305  0.75512697 0.67053659 0.23755156\n",
      " 0.81564643 0.52390699 0.91250625 0.3839605  0.7034684  0.30570198\n",
      " 0.1108775  0.22655995 0.35165607 0.14466609 0.60882813 0.03874084\n",
      " 0.05399472 0.78136496 0.50154725 0.03103295 0.94020451 0.52091564\n",
      " 0.80190129 0.56502403 0.49860236 0.43439589 0.21369648 0.60648539\n",
      " 0.18468004 0.95774443 0.63658288 0.6328306  0.12937782 0.28510451\n",
      " 0.08823791 0.26570685 0.93868176 0.38357408 0.7115172  0.77426621\n",
      " 0.61106726 0.90536984 0.74690428 0.85222854 0.55337657 0.16714175\n",
      " 0.31688428 0.99555281 0.52411527 0.17023797 0.74983607 0.60971909\n",
      " 0.30013501 0.66762886 0.07329894 0.4946956  0.62016416 0.53692273\n",
      " 0.9709255  0.55240275 0.52471256 0.31232797]\n",
      "0.5377239620673835\n",
      "0.07869444454949938\n"
     ]
    }
   ],
   "source": [
    "# Ejercicio 5\n",
    "# Crear un arreglo de números aleatorios de longitud 100 y obtener su media y varianza.\n",
    "\n",
    "arreglo5 = np.random.rand(100)\n",
    "print(arreglo5)\n",
    "\n",
    "media = np.mean(arreglo5)\n",
    "print(media)\n",
    "\n",
    "varianza = np.var(arreglo5)\n",
    "print(varianza)"
   ]
  },
  {
   "cell_type": "code",
   "execution_count": 39,
   "metadata": {
    "colab": {
     "base_uri": "https://localhost:8080/"
    },
    "id": "WwM2Tckz2gnl",
    "outputId": "227cc5b1-4cbc-4506-89ec-783802243fba"
   },
   "outputs": [
    {
     "name": "stdout",
     "output_type": "stream",
     "text": [
      "4.6\n"
     ]
    }
   ],
   "source": [
    "# Ejericio 6\n",
    "# Calcular la media de un arreglo usando np.sum\n",
    "\n",
    "arry = np.array([1,2,3,7,10])\n",
    "media = np.sum(arry)/len(arry) # Lo que hace len es decirme el numero de elementos que tiene el arreglo}\n",
    "#print(len(arry))\n",
    "\n",
    "print(media)\n"
   ]
  },
  {
   "cell_type": "code",
   "execution_count": 41,
   "metadata": {
    "colab": {
     "base_uri": "https://localhost:8080/"
    },
    "id": "OkvVVYCR3L5S",
    "outputId": "2b7065db-640d-4ac7-a43a-4062fb7779e1"
   },
   "outputs": [
    {
     "name": "stdout",
     "output_type": "stream",
     "text": [
      "14.3\n"
     ]
    }
   ],
   "source": [
    "# Ejercicio7\n",
    "# Calcular la varianza de un arreglo usando np.sum y np.mean\n",
    "\n",
    "# La varianza se calcula  como la sumatoria de la diferencia entre el valor original y su media , todo al cuadrado.\n",
    "# A todo eso lo debemos dividir por la cantidad de elementos menos 1\n",
    "\n",
    "arreglo7 = np.array([1,2,3,7,10])\n",
    "varianza = np.sum((arreglo7-np.mean(arreglo7))**2)/(len(arreglo7)-1)\n",
    "\n",
    "print(varianza)"
   ]
  },
  {
   "cell_type": "code",
   "execution_count": 45,
   "metadata": {
    "colab": {
     "base_uri": "https://localhost:8080/"
    },
    "id": "PcKPK3r03yX6",
    "outputId": "fb5f722c-034e-4764-d805-019aac49c68e"
   },
   "outputs": [
    {
     "name": "stdout",
     "output_type": "stream",
     "text": [
      "[0.45265051 0.1971435  0.48983987 0.14354178 0.6763473  0.8932966\n",
      " 0.28415646 0.38284597 0.0310526  0.20945477 0.39242299 0.01745015\n",
      " 0.68394083 0.89846404 0.86030115 0.43417556 0.34600915 0.84617688]\n"
     ]
    }
   ],
   "source": [
    "# Ejercicio 8\n",
    "# Crear un array de números aleatorios usando np.random.randn\n",
    "\n",
    "arry_alea = np.random.rand(18)\n",
    "print(arry_alea)\n"
   ]
  },
  {
   "cell_type": "code",
   "execution_count": null,
   "metadata": {},
   "outputs": [],
   "source": []
  }
 ],
 "metadata": {
  "colab": {
   "provenance": []
  },
  "kernelspec": {
   "display_name": "Python [conda env:base] *",
   "language": "python",
   "name": "conda-base-py"
  },
  "language_info": {
   "codemirror_mode": {
    "name": "ipython",
    "version": 3
   },
   "file_extension": ".py",
   "mimetype": "text/x-python",
   "name": "python",
   "nbconvert_exporter": "python",
   "pygments_lexer": "ipython3",
   "version": "3.12.7"
  }
 },
 "nbformat": 4,
 "nbformat_minor": 4
}
